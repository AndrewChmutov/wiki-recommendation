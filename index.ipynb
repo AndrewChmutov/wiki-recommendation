{
 "cells": [
  {
   "cell_type": "code",
   "execution_count": 1,
   "id": "44cfe444-f4dc-4e0f-972d-c2f50ae81561",
   "metadata": {},
   "outputs": [
    {
     "name": "stderr",
     "output_type": "stream",
     "text": [
      "/home/warlock/repos/wiki-recommender/.venv/lib/python3.12/site-packages/tqdm/auto.py:21: TqdmWarning: IProgress not found. Please update jupyter and ipywidgets. See https://ipywidgets.readthedocs.io/en/stable/user_install.html\n",
      "  from .autonotebook import tqdm as notebook_tqdm\n"
     ]
    }
   ],
   "source": [
    "%load_ext autoreload\n",
    "%autoreload 2\n",
    "\n",
    "from rfc.datastore import DataStore\n",
    "from rfc.scrap import scrap\n",
    "from rfc.index import Index"
   ]
  },
  {
   "cell_type": "markdown",
   "id": "a1e7b351-cd64-4d2f-8296-b77479700593",
   "metadata": {},
   "source": [
    "# Index\n",
    "In this notebook, code for scraping and indexing the resource is provided."
   ]
  },
  {
   "cell_type": "markdown",
   "id": "824612e8-8658-40ee-a0f3-fb61aa13730d",
   "metadata": {},
   "source": [
    "## Configuration\n",
    "\n",
    "Configure the parameters for scraping and indexing."
   ]
  },
  {
   "cell_type": "code",
   "execution_count": 2,
   "id": "3012b3d1-6467-4481-b03e-f27a7be21ead",
   "metadata": {},
   "outputs": [],
   "source": [
    "location = \"data.sqlite\"\n",
    "limit = 50\n",
    "starting_nodes = [\n",
    "    \"https://datatracker.ietf.org/doc/html/rfc791\",\n",
    "]"
   ]
  },
  {
   "cell_type": "markdown",
   "id": "1a33c170-ad83-4337-b626-7d345214e39d",
   "metadata": {},
   "source": [
    "## Scrap\n",
    "\n",
    "Create the database if needed and scrap resource."
   ]
  },
  {
   "cell_type": "code",
   "execution_count": 3,
   "id": "515eb83f-eddb-4fa9-bb51-e6ee556267cb",
   "metadata": {},
   "outputs": [
    {
     "name": "stderr",
     "output_type": "stream",
     "text": [
      "100%|████████████████████████████████████████████████████████████████████████████████████████████████████████████████████████████████████████████████████████████████████████████████| 50/50 [00:26<00:00,  1.89it/s]\n"
     ]
    }
   ],
   "source": [
    "datastore = DataStore(location)\n",
    "_ = scrap(datastore=datastore, starting_nodes=starting_nodes, limit=limit, verbosity=\"WARNING\")"
   ]
  },
  {
   "cell_type": "markdown",
   "id": "8c68e150-0d07-4b2a-8fcc-81b07bfb144b",
   "metadata": {},
   "source": [
    "## Index\n",
    "\n",
    "Create TF-IDF index based on scraped data."
   ]
  },
  {
   "cell_type": "code",
   "execution_count": 4,
   "id": "dbda5ac3-cd6b-4d4b-8ecb-6224ab99f521",
   "metadata": {},
   "outputs": [
    {
     "name": "stderr",
     "output_type": "stream",
     "text": [
      "\u001b[32;20m2024-12-30 05:15:28,476 index.py(INFO) - Computing BOW (index.py:62)\u001b[0m\n",
      "\u001b[32;20m2024-12-30 05:15:28,476 index.py(INFO) - Computing BOW (index.py:62)\u001b[0m\n",
      "\u001b[32;20m2024-12-30 05:15:43,660 index.py(INFO) - Computing TF-IDF (index.py:66)\u001b[0m\n",
      "\u001b[32;20m2024-12-30 05:15:43,660 index.py(INFO) - Computing TF-IDF (index.py:66)\u001b[0m\n",
      "\u001b[32;20m2024-12-30 05:15:49,970 index.py(INFO) - Saving TfidfVectorizer to vectorizer.pkl (index.py:103)\u001b[0m\n",
      "\u001b[32;20m2024-12-30 05:15:49,970 index.py(INFO) - Saving TfidfVectorizer to vectorizer.pkl (index.py:103)\u001b[0m\n",
      "\u001b[32;20m2024-12-30 05:15:56,249 index.py(INFO) - Creating database (index.py:73)\u001b[0m\n",
      "\u001b[32;20m2024-12-30 05:15:56,249 index.py(INFO) - Creating database (index.py:73)\u001b[0m\n"
     ]
    },
    {
     "data": {
      "text/plain": [
       "<rfc.index.Index at 0x747a8df63bf0>"
      ]
     },
     "execution_count": 4,
     "metadata": {},
     "output_type": "execute_result"
    }
   ],
   "source": [
    "Index(datastore, mode=\"create\")"
   ]
  }
 ],
 "metadata": {
  "kernelspec": {
   "display_name": "Python 3 (ipykernel)",
   "language": "python",
   "name": "python3"
  },
  "language_info": {
   "codemirror_mode": {
    "name": "ipython",
    "version": 3
   },
   "file_extension": ".py",
   "mimetype": "text/x-python",
   "name": "python",
   "nbconvert_exporter": "python",
   "pygments_lexer": "ipython3",
   "version": "3.12.8"
  }
 },
 "nbformat": 4,
 "nbformat_minor": 5
}
