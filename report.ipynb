{
 "cells": [
  {
   "cell_type": "code",
   "execution_count": 6,
   "id": "51c131b2-60b9-4e2d-8d04-6dc73b3737be",
   "metadata": {},
   "outputs": [
    {
     "name": "stdout",
     "output_type": "stream",
     "text": [
      "The autoreload extension is already loaded. To reload it, use:\n",
      "  %reload_ext autoreload\n"
     ]
    }
   ],
   "source": [
    "%load_ext autoreload\n",
    "%autoreload \n",
    "\n",
    "from rfc.index import Index\n",
    "from rfc.datastore import By, DataStore"
   ]
  },
  {
   "cell_type": "markdown",
   "id": "51e2e691-0cf9-4910-b03f-aff07ad5eb7e",
   "metadata": {},
   "source": [
    "# Request For Comments\n",
    "\n",
    "Authors:\n",
    "* Vasyl Korzavatykh 158669\n",
    "* Andrii Chmutov 154974"
   ]
  },
  {
   "cell_type": "markdown",
   "id": "15ae2ae6-9779-46df-97a0-1028d7ccaf40",
   "metadata": {},
   "source": [
    "A **Request for Comments** (RFC) is a publication in a series from the principal technical development and standards-setting bodies for the Internet, most prominently the **Internet Engineering Task Force** (IETF). An RFC is authored by individuals or groups of engineers and computer scientists in the form of a memorandum describing methods, behaviors, research, or innovations applicable to the working of the Internet and Internet-connected systems. It is submitted either for peer review or to convey new concepts, information, or, occasionally, engineering humor."
   ]
  },
  {
   "cell_type": "markdown",
   "id": "701a23f6-73f8-4445-8a63-d75ca5183052",
   "metadata": {},
   "source": [
    "Our bespoke implementation of search system aims to simplify the process of navigating the website and kick-off the user experience to the next level."
   ]
  },
  {
   "cell_type": "markdown",
   "id": "01e48b89-c55c-4bc1-80bf-c8c8d6e92ee2",
   "metadata": {},
   "source": [
    "## Index\n",
    "\n",
    "Load the index provided by by `index.ipynb` notebook."
   ]
  },
  {
   "cell_type": "code",
   "execution_count": 2,
   "id": "b8f39406-89f0-4d8b-bd53-4220d7d30c07",
   "metadata": {},
   "outputs": [
    {
     "name": "stderr",
     "output_type": "stream",
     "text": [
      "\u001b[32;20m2024-12-30 05:35:47,382 datastore.py(INFO) - Reading tfidf (datastore.py:142)\u001b[0m\n",
      "\u001b[32;20m2024-12-30 05:35:48,431 datastore.py(INFO) - Reading tf (datastore.py:142)\u001b[0m\n",
      "\u001b[32;20m2024-12-30 05:35:49,453 datastore.py(INFO) - Reading idf (datastore.py:163)\u001b[0m\n"
     ]
    }
   ],
   "source": [
    "datastore = DataStore(\"data.sqlite\")\n",
    "index = Index(datastore, mode=\"load\")"
   ]
  },
  {
   "cell_type": "code",
   "execution_count": 14,
   "id": "adf4695a-3e06-41cb-ac57-06bc1ef5d7e9",
   "metadata": {},
   "outputs": [
    {
     "name": "stdout",
     "output_type": "stream",
     "text": [
      "use saved\n",
      "shape (1, 20350) (50, 20350)\n",
      "values query term:icmp value:0.0 norm:1.0\n",
      "values base icmp https://datatracker.ietf.org/doc/html/rfc1248 0.00183977290204037\n",
      "cosinde similarity 0.0\n",
      "RankedDocument(url=\"https://datatracker.ietf.org/doc/html/rfc4301\", name=\"RFC 4301 - Security Architecture for the Internet Protocol\", rank=0.13565840117943118, text=...)\n",
      "RankedDocument(url=\"https://datatracker.ietf.org/doc/html/rfc2402\", name=\"RFC 2402 - IP Authentication Header\", rank=0.05566873402094281, text=...)\n",
      "RankedDocument(url=\"https://datatracker.ietf.org/doc/html/rfc4302\", name=\"RFC 4302 - IP Authentication Header\", rank=0.05164447627034408, text=...)\n",
      "RankedDocument(url=\"https://datatracker.ietf.org/doc/html/rfc2406\", name=\"RFC 2406 - IP Encapsulating Security Payload (ESP)\", rank=0.034397786448736825, text=...)\n",
      "RankedDocument(url=\"https://datatracker.ietf.org/doc/html/rfc3168\", name=\"RFC 3168 - The Addition of Explicit Congestion Notification (ECN) to IP\", rank=0.034258538642413794, text=...)\n"
     ]
    }
   ],
   "source": [
    "for doc in index.recommend_query(\"ipsec\")[:5]:\n",
    "    print(doc)"
   ]
  },
  {
   "cell_type": "code",
   "execution_count": null,
   "id": "792621cd-0a68-490e-958e-baf423309a8c",
   "metadata": {},
   "outputs": [],
   "source": []
  }
 ],
 "metadata": {
  "kernelspec": {
   "display_name": "Python 3 (ipykernel)",
   "language": "python",
   "name": "python3"
  },
  "language_info": {
   "codemirror_mode": {
    "name": "ipython",
    "version": 3
   },
   "file_extension": ".py",
   "mimetype": "text/x-python",
   "name": "python",
   "nbconvert_exporter": "python",
   "pygments_lexer": "ipython3",
   "version": "3.12.8"
  }
 },
 "nbformat": 4,
 "nbformat_minor": 5
}
